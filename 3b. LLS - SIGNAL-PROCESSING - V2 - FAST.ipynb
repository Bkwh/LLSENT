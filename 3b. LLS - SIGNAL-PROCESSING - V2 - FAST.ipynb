{
 "cells": [
  {
   "cell_type": "code",
   "execution_count": 1,
   "metadata": {},
   "outputs": [],
   "source": [
    "import pandas as pd\n",
    "import numpy as np\n",
    "import pandas_market_calendars as mcal\n",
    "import warnings\n",
    "warnings.filterwarnings('ignore')\n",
    "from empyrical import max_drawdown,cum_returns_final,cum_returns,sortino_ratio,sharpe_ratio,calmar_ratio,annual_return,annual_volatility\n",
    "\n",
    "import matplotlib.pyplot as plt\n",
    "\n",
    "import time\n",
    "import datetime as dt\n",
    "from datetime import timedelta\n",
    "from pytz import timezone\n",
    "\n",
    "import yfinance as yf\n",
    "from datetime import date\n",
    "import itertools as it"
   ]
  },
  {
   "cell_type": "code",
   "execution_count": 2,
   "metadata": {},
   "outputs": [
    {
     "name": "stdout",
     "output_type": "stream",
     "text": [
      "3.7.4\n"
     ]
    }
   ],
   "source": [
    "from platform import python_version\n",
    "\n",
    "print(python_version())"
   ]
  },
  {
   "cell_type": "markdown",
   "metadata": {},
   "source": [
    "# PARAMETERS"
   ]
  },
  {
   "cell_type": "code",
   "execution_count": 3,
   "metadata": {},
   "outputs": [],
   "source": [
    "Ex_MA = 5\n",
    "look_back_window = 20 #zscores\n",
    "\n",
    "###EMA\n",
    "long_mvg = 5\n",
    "short_mvg = 2\n",
    "shift_close_open = 'yes' #if EMA based on open and we have open as rebalance, if shift_close_open='yes' the signal iis shifted one day\n",
    "EMA_zscore       = 'yes' #cross-sectional zscore (mainly merging purpose) \n",
    "\n"
   ]
  },
  {
   "cell_type": "markdown",
   "metadata": {},
   "source": [
    "# LOAD DATA"
   ]
  },
  {
   "cell_type": "code",
   "execution_count": 4,
   "metadata": {},
   "outputs": [],
   "source": [
    "import_path = '/Users/niclaswolnerhanssen/Desktop/LINC/Sentiment LYNX/1_DATA_MINING/'\n",
    "\n",
    "BLOOMBERG_TOT = pd.read_excel(\n",
    "    import_path+'BLOOMBERG_TOT.xlsx',index_col=0)\n",
    "BLOOMBERG_POS = pd.read_excel(\n",
    "    import_path+'BLOOMBERG_POS.xlsx',index_col=0)\n",
    "\n",
    "REDDIT_TOT = pd.read_excel(\n",
    "    import_path+'REDDIT_TOT.xlsx',index_col=0)\n",
    "REDDIT_POS = pd.read_excel(\n",
    "    import_path+'REDDIT_POS.xlsx',index_col=0)\n",
    "\n",
    "TWITTER_TOT = pd.read_excel(\n",
    "    import_path+'TWITTER_TOT.xlsx',index_col=0)\n",
    "TWITTER_POS = pd.read_excel(\n",
    "    import_path+'TWITTER_POS.xlsx',index_col=0)\n",
    "\n",
    "XLK_OPEN_ETF = pd.read_excel(\n",
    "    import_path+'XLK_OPEN_ETF.xlsx',index_col=0)\n",
    "XLK_CLOSE_ETF = pd.read_excel(\n",
    "    import_path+'XLK_CLOSE_ETF.xlsx',index_col=0)\n",
    "\n",
    "STOCK_PRICES_CLOSE = pd.read_excel(\n",
    "    import_path+'STOCK_PRICES_CLOSE.xlsx',index_col=0)\n",
    "STOCK_PRICES_OPEN = pd.read_excel(\n",
    "    import_path+'STOCK_PRICES_OPEN.xlsx',index_col=0)"
   ]
  },
  {
   "cell_type": "markdown",
   "metadata": {},
   "source": [
    "# DATA PRE-PROCESSING"
   ]
  },
  {
   "cell_type": "code",
   "execution_count": 5,
   "metadata": {},
   "outputs": [
    {
     "name": "stdout",
     "output_type": "stream",
     "text": [
      "(245, 75)\n",
      "START: 2020-11-25 00:00:00\n",
      "END: 2021-11-02 00:00:00\n"
     ]
    }
   ],
   "source": [
    "BLOOMBERG_TOT_EXP = BLOOMBERG_TOT.ewm(span=Ex_MA).mean(skipna=True)\n",
    "BLOOMBERG_POS_EXP = BLOOMBERG_POS.ewm(span=Ex_MA).mean(skipna=True)\n",
    "#Positve in relation to the total:\n",
    "BLOOMBERG     = BLOOMBERG_POS_EXP.div(BLOOMBERG_TOT_EXP)\n",
    "print(BLOOMBERG.shape) \n",
    "print('START: '+str(BLOOMBERG.index[0]))\n",
    "print('END: '+str(BLOOMBERG.index[-1]))"
   ]
  },
  {
   "cell_type": "code",
   "execution_count": 6,
   "metadata": {},
   "outputs": [
    {
     "name": "stdout",
     "output_type": "stream",
     "text": [
      "(238, 75)\n",
      "START: 2020-11-25 00:00:00\n",
      "END: 2021-11-02 00:00:00\n"
     ]
    }
   ],
   "source": [
    "REDDIT_TOT_EXP = REDDIT_TOT.ewm(span=Ex_MA).mean(skipna=True)\n",
    "REDDIT_POS_EXP = REDDIT_POS.ewm(span=Ex_MA).mean(skipna=True)\n",
    "#Positve in relation to the total:\n",
    "REDDIT     = REDDIT_POS_EXP.div(REDDIT_TOT_EXP)\n",
    "REDDIT     = REDDIT[REDDIT.index[0]:BLOOMBERG.index[-1]]\n",
    "\n",
    "print(REDDIT.shape) \n",
    "print('START: '+str(REDDIT.index[0]))\n",
    "print('END: '+str(REDDIT.index[-1]))"
   ]
  },
  {
   "cell_type": "code",
   "execution_count": 7,
   "metadata": {},
   "outputs": [
    {
     "name": "stdout",
     "output_type": "stream",
     "text": [
      "(224, 75)\n",
      "START: 2020-11-25 00:00:00\n",
      "END: 2021-11-02 00:00:00\n"
     ]
    }
   ],
   "source": [
    "TWITTER_TOT_EXP = TWITTER_TOT.ewm(span=Ex_MA).mean(skipna=True)\n",
    "TWITTER_POS_EXP = TWITTER_POS.ewm(span=Ex_MA).mean(skipna=True)\n",
    "#Positve in relation to the total:\n",
    "TWITTER     = TWITTER_POS_EXP.div(TWITTER_TOT_EXP)\n",
    "TWITTER     = TWITTER[TWITTER.index[0]:BLOOMBERG.index[-1]]\n",
    "\n",
    "print(TWITTER.shape) \n",
    "print('START: '+str(TWITTER.index[0]))\n",
    "print('END: '+str(TWITTER.index[-1]))"
   ]
  },
  {
   "cell_type": "markdown",
   "metadata": {},
   "source": [
    "# ZSCORE TRANSFORMATION"
   ]
  },
  {
   "cell_type": "markdown",
   "metadata": {},
   "source": [
    "### V2: Cross-sectional first, then historical zscores"
   ]
  },
  {
   "cell_type": "code",
   "execution_count": 8,
   "metadata": {},
   "outputs": [],
   "source": [
    "def zscore_columns(data_df,look_back_window = 30,skipna=True):\n",
    "    df = data_df.copy()\n",
    "    for i in df.columns:\n",
    "        df[i] = (df[i]-df[i].rolling(look_back_window).mean(skipna=skipna))/df[i].rolling(look_back_window).std(skipna=skipna)\n",
    "                \n",
    "    df = df[look_back_window:]\n",
    "                \n",
    "    df.replace([np.inf, -np.inf], np.nan, inplace=True)\n",
    "        \n",
    "    return df\n",
    "\n"
   ]
  },
  {
   "cell_type": "code",
   "execution_count": 9,
   "metadata": {},
   "outputs": [],
   "source": [
    "#stock relative\n",
    "def zscore_rows(data_df,skipna=True):\n",
    "    df                       = data_df.copy()\n",
    "    df_mean                  = df.mean(axis=1,skipna=skipna)\n",
    "    df_std                   = df.std(axis=1,skipna=skipna)\n",
    "    \n",
    "    for i in df.columns:\n",
    "        df[i] = (df[i]-df_mean)/df_std\n",
    "    \n",
    "    df.replace([np.inf, -np.inf], np.nan, inplace=True)\n",
    "        \n",
    "    return df"
   ]
  },
  {
   "cell_type": "code",
   "execution_count": 10,
   "metadata": {},
   "outputs": [],
   "source": [
    "def intersected_index_dfs(df_1,df_2):\n",
    "    #intersected_index is a new index with elements common to both df_1.index & df_2.index\n",
    "    intersected_index = df_1.index.intersection(df_2.index, sort=False)\n",
    "    #filter the dfs with the new, intersected, index\n",
    "    df_1 = df_1[df_1.index.isin(intersected_index)]\n",
    "    df_2 = df_2[df_2.index.isin(intersected_index)]\n",
    "           \n",
    "    return df_1, df_2"
   ]
  },
  {
   "cell_type": "code",
   "execution_count": 11,
   "metadata": {},
   "outputs": [],
   "source": [
    "def merge_zscores(df1,df2):\n",
    "    #replace nans with zeros\n",
    "    df1 = df1.replace(np.nan,0)\n",
    "    df2 = df2.replace(np.nan,0)\n",
    "    \n",
    "    df1, df2 = intersected_index_dfs(df1,df2)\n",
    "\n",
    "    if (df1.index != df2.index).any():\n",
    "        raise Exception('Index does not match')\n",
    "    \n",
    "    if (df1.columns != df2.columns).any():\n",
    "        raise Exception('Columns does not match')\n",
    "        \n",
    "    #simple addition between dfs    \n",
    "    df_merged = df1.add(df2)\n",
    "    #replace zeros with nans \n",
    "    df_merged = df_merged.replace(0,np.nan)\n",
    "    \n",
    "    return df_merged\n",
    "    "
   ]
  },
  {
   "cell_type": "code",
   "execution_count": 12,
   "metadata": {},
   "outputs": [],
   "source": [
    "V2_TWITTER_ZSCORED         = zscore_rows(TWITTER,skipna=True)\n",
    "V2_REDDIT_ZSCORED          = zscore_rows(REDDIT ,skipna=True)\n",
    "V2_BLOOMBERG_ZSCORED       = zscore_rows(BLOOMBERG,skipna=True)\n",
    "\n",
    "V2_TWITTER_ZSCORED         = zscore_columns(V2_TWITTER_ZSCORED  ,look_back_window = look_back_window,skipna=True)\n",
    "V2_REDDIT_ZSCORED          = zscore_columns(V2_REDDIT_ZSCORED   ,look_back_window = look_back_window,skipna=True)\n",
    "V2_BLOOMBERG_ZSCORED       = zscore_columns(V2_BLOOMBERG_ZSCORED,look_back_window = look_back_window,skipna=True)"
   ]
  },
  {
   "cell_type": "markdown",
   "metadata": {},
   "source": [
    "# Fix for trading days"
   ]
  },
  {
   "cell_type": "code",
   "execution_count": 13,
   "metadata": {},
   "outputs": [
    {
     "name": "stdout",
     "output_type": "stream",
     "text": [
      "(204, 75)\n",
      "START: 2020-12-24 00:00:00\n",
      "END: 2021-11-02 00:00:00\n",
      "(218, 75)\n",
      "START: 2020-12-24 00:00:00\n",
      "END: 2021-11-02 00:00:00\n",
      "(225, 75)\n",
      "START: 2020-12-23 00:00:00\n",
      "END: 2021-11-02 00:00:00\n"
     ]
    }
   ],
   "source": [
    "for i in [V2_TWITTER_ZSCORED ,V2_REDDIT_ZSCORED,V2_BLOOMBERG_ZSCORED]:\n",
    "    print(i.shape)\n",
    "    print('START: '+str(i.index[0]))\n",
    "    print('END: '+str(i.index[-1]))"
   ]
  },
  {
   "cell_type": "code",
   "execution_count": 14,
   "metadata": {},
   "outputs": [],
   "source": [
    "#fix bloomberg starting date\n",
    "V2_BLOOMBERG_ZSCORED = V2_BLOOMBERG_ZSCORED[V2_TWITTER_ZSCORED.index[0]:V2_BLOOMBERG_ZSCORED.index[-1]]"
   ]
  },
  {
   "cell_type": "code",
   "execution_count": 15,
   "metadata": {},
   "outputs": [],
   "source": [
    "def filter_df_for_trading_days(df):\n",
    "    df_1 = df.copy()\n",
    "    nyse = mcal.get_calendar('NYSE')\n",
    "    trading_days_index = nyse.valid_days(start_date=df_1.index[0], end_date=df_1.index[-1])\n",
    "    trading_days_index = trading_days_index.tz_localize(tz=None)\n",
    "    #filter df_1 for trading_days_index\n",
    "    try:\n",
    "        df_1 = df_1.loc[trading_days_index]\n",
    "    except KeyError:\n",
    "        pandas = pd.DataFrame(index=trading_days_index)\n",
    "        pandas['DUMMY'] = np.ones(len(pandas))\n",
    "        merged = pd.concat([pandas,df_1],axis=1)#trading days will result in nans for df_1 data\n",
    "        merged = merged.drop('DUMMY',axis=1)    #remove dummy-column\n",
    "        merged = merged.loc[trading_days_index] #filter for trading days only and remove everything else\n",
    "        df_1   = merged\n",
    "           \n",
    "    return df_1"
   ]
  },
  {
   "cell_type": "code",
   "execution_count": 16,
   "metadata": {},
   "outputs": [],
   "source": [
    "V2_BLOOMBERG_ZSCORED  = filter_df_for_trading_days(V2_BLOOMBERG_ZSCORED)\n",
    "V2_REDDIT_ZSCORED     = filter_df_for_trading_days(V2_REDDIT_ZSCORED)\n",
    "V2_TWITTER_ZSCORED    = filter_df_for_trading_days(V2_TWITTER_ZSCORED)\n"
   ]
  },
  {
   "cell_type": "code",
   "execution_count": 17,
   "metadata": {},
   "outputs": [
    {
     "name": "stdout",
     "output_type": "stream",
     "text": [
      "(216, 75)\n",
      "START: 2020-12-24 00:00:00\n",
      "END:   2021-11-02 00:00:00\n",
      "(216, 75)\n",
      "START: 2020-12-24 00:00:00\n",
      "END:   2021-11-02 00:00:00\n",
      "(216, 75)\n",
      "START: 2020-12-24 00:00:00\n",
      "END:   2021-11-02 00:00:00\n"
     ]
    }
   ],
   "source": [
    "for i in [V2_TWITTER_ZSCORED ,V2_REDDIT_ZSCORED,V2_BLOOMBERG_ZSCORED]:\n",
    "    print(i.shape)\n",
    "    print('START: '+str(i.index[0]))\n",
    "    print('END:   '+str(i.index[-1]))"
   ]
  },
  {
   "cell_type": "markdown",
   "metadata": {},
   "source": [
    "### Correlation between V2 zscores:"
   ]
  },
  {
   "cell_type": "code",
   "execution_count": 18,
   "metadata": {},
   "outputs": [
    {
     "data": {
      "text/html": [
       "<div>\n",
       "<style scoped>\n",
       "    .dataframe tbody tr th:only-of-type {\n",
       "        vertical-align: middle;\n",
       "    }\n",
       "\n",
       "    .dataframe tbody tr th {\n",
       "        vertical-align: top;\n",
       "    }\n",
       "\n",
       "    .dataframe thead th {\n",
       "        text-align: right;\n",
       "    }\n",
       "</style>\n",
       "<table border=\"1\" class=\"dataframe\">\n",
       "  <thead>\n",
       "    <tr style=\"text-align: right;\">\n",
       "      <th></th>\n",
       "      <th>TWITTER V2</th>\n",
       "      <th>REDDIT V2</th>\n",
       "      <th>BLOOMBERG V2</th>\n",
       "    </tr>\n",
       "  </thead>\n",
       "  <tbody>\n",
       "    <tr>\n",
       "      <th>TWITTER V2</th>\n",
       "      <td>1.000000</td>\n",
       "      <td>0.120829</td>\n",
       "      <td>0.112249</td>\n",
       "    </tr>\n",
       "    <tr>\n",
       "      <th>REDDIT V2</th>\n",
       "      <td>0.120829</td>\n",
       "      <td>1.000000</td>\n",
       "      <td>0.178436</td>\n",
       "    </tr>\n",
       "    <tr>\n",
       "      <th>BLOOMBERG V2</th>\n",
       "      <td>0.112249</td>\n",
       "      <td>0.178436</td>\n",
       "      <td>1.000000</td>\n",
       "    </tr>\n",
       "  </tbody>\n",
       "</table>\n",
       "</div>"
      ],
      "text/plain": [
       "              TWITTER V2  REDDIT V2  BLOOMBERG V2\n",
       "TWITTER V2      1.000000   0.120829      0.112249\n",
       "REDDIT V2       0.120829   1.000000      0.178436\n",
       "BLOOMBERG V2    0.112249   0.178436      1.000000"
      ]
     },
     "execution_count": 18,
     "metadata": {},
     "output_type": "execute_result"
    }
   ],
   "source": [
    "twitt, redd  = intersected_index_dfs(V2_TWITTER_ZSCORED,V2_REDDIT_ZSCORED)\n",
    "twitt, bloom = intersected_index_dfs(twitt,V2_BLOOMBERG_ZSCORED)\n",
    "twitt, redd  = intersected_index_dfs(twitt,redd)\n",
    "\n",
    "corr_df = pd.concat([twitt.mean(axis=1,skipna=True),redd.mean(axis=1,skipna=True),bloom.mean(axis=1,skipna=True)],axis=1)\n",
    "corr_df.columns = ['TWITTER V2','REDDIT V2','BLOOMBERG V2']\n",
    "corr_df.corr()\n",
    "\n"
   ]
  },
  {
   "cell_type": "markdown",
   "metadata": {},
   "source": [
    "### Merge"
   ]
  },
  {
   "cell_type": "code",
   "execution_count": 19,
   "metadata": {},
   "outputs": [],
   "source": [
    "V2_TWITTER_REDDIT_ZSCORED           = merge_zscores(V2_TWITTER_ZSCORED,V2_REDDIT_ZSCORED)\n",
    "V2_TWITTER_REDDIT_BLOOMBERG_ZSCORED = merge_zscores(V2_TWITTER_REDDIT_ZSCORED,V2_BLOOMBERG_ZSCORED)"
   ]
  },
  {
   "cell_type": "markdown",
   "metadata": {},
   "source": [
    "# Exponential Moving Average"
   ]
  },
  {
   "cell_type": "code",
   "execution_count": 20,
   "metadata": {},
   "outputs": [],
   "source": [
    "#Momentum EMA Cross-over %-diff\n",
    "def EMA_percentage_diff(    close_price, \n",
    "                            long_mvg, \n",
    "                            short_mvg,\n",
    "                            shift_close_open       = 'yes',\n",
    "                            EMA_zscore             = 'yes',\n",
    "                  \n",
    "                             ):\n",
    "    \n",
    "    MA_df = pd.DataFrame()\n",
    "    \n",
    "    for i in close_price.columns:\n",
    "        df = close_price[[i]]\n",
    "        df['EMA_long']  = df[i].ewm(span=long_mvg).mean(skipna=True)\n",
    "        df['EMA_short'] = df[i].ewm(span=short_mvg).mean(skipna=True)\n",
    "        df['EMA %'] = (df['EMA_short']-df['EMA_long'])/df['EMA_long']\n",
    "            \n",
    "        MA_df[i] = df['EMA %'].iloc[long_mvg:]\n",
    "    \n",
    "    if EMA_zscore =='yes':\n",
    "        MA_df = zscore_rows(MA_df,skipna=True)            \n",
    "        \n",
    "    ##if the signal is based on close price and we trade at open: \n",
    "    ##shift the signal on day forward to line up with open.\n",
    "    if shift_close_open == 'yes':\n",
    "        MA_df = MA_df.shift()\n",
    "        MA_df = MA_df.iloc[1:,]  \n",
    "    \n",
    "    return MA_df"
   ]
  },
  {
   "cell_type": "code",
   "execution_count": 21,
   "metadata": {},
   "outputs": [],
   "source": [
    "V2_EMA_ZSCORED = EMA_percentage_diff(    \n",
    "                                      close_price       = STOCK_PRICES_CLOSE, \n",
    "                                      long_mvg          = long_mvg, \n",
    "                                      short_mvg         = short_mvg,\n",
    "                                      shift_close_open  = shift_close_open,\n",
    "                                      EMA_zscore        = EMA_zscore,\n",
    "                  \n",
    "                             )\n",
    "\n",
    "V2_EMA_ZSCORED = V2_EMA_ZSCORED[V2_TWITTER_ZSCORED.index[0]:V2_BLOOMBERG_ZSCORED.index[-1]]\n",
    "V2_EMA_ZSCORED = filter_df_for_trading_days(V2_EMA_ZSCORED)"
   ]
  },
  {
   "cell_type": "code",
   "execution_count": 22,
   "metadata": {},
   "outputs": [
    {
     "name": "stdout",
     "output_type": "stream",
     "text": [
      "(216, 75)\n",
      "START: 2020-12-24 00:00:00\n",
      "END:   2021-11-02 00:00:00\n"
     ]
    }
   ],
   "source": [
    "for i in [V2_EMA_ZSCORED]:\n",
    "    print(i.shape)\n",
    "    print('START: '+str(i.index[0]))\n",
    "    print('END:   '+str(i.index[-1]))"
   ]
  },
  {
   "cell_type": "code",
   "execution_count": 23,
   "metadata": {},
   "outputs": [],
   "source": [
    "V2_EMA_TWITTER_ZSCORED                  = merge_zscores(V2_TWITTER_ZSCORED                 , V2_EMA_ZSCORED)\n",
    "V2_EMA_REDDIT_ZSCORED                   = merge_zscores(V2_REDDIT_ZSCORED                  , V2_EMA_ZSCORED)\n",
    "V2_EMA_BLOOMBERG_ZSCORED                = merge_zscores(V2_BLOOMBERG_ZSCORED               , V2_EMA_ZSCORED)\n",
    "V2_EMA_TWITTER_REDDIT_ZSCORED           = merge_zscores(V2_TWITTER_REDDIT_ZSCORED          , V2_EMA_ZSCORED)\n",
    "V2_EMA_TWITTER_REDDIT_BLOOMBERG_ZSCORED = merge_zscores(V2_TWITTER_REDDIT_BLOOMBERG_ZSCORED, V2_EMA_ZSCORED) \n",
    "\n"
   ]
  },
  {
   "cell_type": "code",
   "execution_count": 24,
   "metadata": {},
   "outputs": [],
   "source": [
    "feature_df_list = [\n",
    "                    V2_TWITTER_ZSCORED,\n",
    "                    V2_REDDIT_ZSCORED,\n",
    "                    V2_BLOOMBERG_ZSCORED,\n",
    "                    V2_TWITTER_REDDIT_ZSCORED,\n",
    "                    V2_TWITTER_REDDIT_BLOOMBERG_ZSCORED,\n",
    "                    V2_EMA_ZSCORED,\n",
    "                    V2_EMA_TWITTER_ZSCORED,\n",
    "                    V2_EMA_REDDIT_ZSCORED,\n",
    "                    V2_EMA_BLOOMBERG_ZSCORED,\n",
    "                    V2_EMA_TWITTER_REDDIT_ZSCORED,\n",
    "                    V2_EMA_TWITTER_REDDIT_BLOOMBERG_ZSCORED\n",
    "    \n",
    "                     ]"
   ]
  },
  {
   "cell_type": "code",
   "execution_count": 25,
   "metadata": {},
   "outputs": [
    {
     "name": "stdout",
     "output_type": "stream",
     "text": [
      "(216, 75)\n",
      "START: 2020-12-24 00:00:00\n",
      "END: 2021-11-02 00:00:00\n",
      "(216, 75)\n",
      "START: 2020-12-24 00:00:00\n",
      "END: 2021-11-02 00:00:00\n",
      "(216, 75)\n",
      "START: 2020-12-24 00:00:00\n",
      "END: 2021-11-02 00:00:00\n",
      "(216, 75)\n",
      "START: 2020-12-24 00:00:00\n",
      "END: 2021-11-02 00:00:00\n",
      "(216, 75)\n",
      "START: 2020-12-24 00:00:00\n",
      "END: 2021-11-02 00:00:00\n",
      "(216, 75)\n",
      "START: 2020-12-24 00:00:00\n",
      "END: 2021-11-02 00:00:00\n",
      "(216, 75)\n",
      "START: 2020-12-24 00:00:00\n",
      "END: 2021-11-02 00:00:00\n",
      "(216, 75)\n",
      "START: 2020-12-24 00:00:00\n",
      "END: 2021-11-02 00:00:00\n",
      "(216, 75)\n",
      "START: 2020-12-24 00:00:00\n",
      "END: 2021-11-02 00:00:00\n",
      "(216, 75)\n",
      "START: 2020-12-24 00:00:00\n",
      "END: 2021-11-02 00:00:00\n",
      "(216, 75)\n",
      "START: 2020-12-24 00:00:00\n",
      "END: 2021-11-02 00:00:00\n"
     ]
    }
   ],
   "source": [
    "for i in feature_df_list:\n",
    "    print(i.shape)\n",
    "    print('START: '+str(i.index[0]))\n",
    "    print('END: '+str(i.index[-1]))"
   ]
  },
  {
   "cell_type": "markdown",
   "metadata": {},
   "source": [
    "# Returns - Open to Close"
   ]
  },
  {
   "cell_type": "code",
   "execution_count": 26,
   "metadata": {},
   "outputs": [],
   "source": [
    "#######Transpos columns df\n",
    "def mkt_neu_returns(  \n",
    "                   open_price,\n",
    "                   close_price,\n",
    "                   open_to_close       = 'no',\n",
    "                   open_to_open        = 'no',\n",
    "                   equal_index_ret     = 'yes',\n",
    "                   fwd_ret             = 'yes',\n",
    "\n",
    "                ):\n",
    "    \n",
    "    if len(open_price) != len(close_price):\n",
    "        raise Exception('close and open price have different lengths')\n",
    "    \n",
    "    if open_to_close == 'yes':\n",
    "        data = (close_price/open_price) -1\n",
    "        returns = data.copy()\n",
    "        \n",
    "    if open_to_open == 'yes':\n",
    "        data = (open_price/open_price.shift())-1\n",
    "        data = data.shift(-1)\n",
    "        data = data.dropna()\n",
    "        returns = data.copy()\n",
    "            \n",
    "    if equal_index_ret == 'yes':\n",
    "        mean_ret = data.mean(axis=1,skipna=True)\n",
    "        data = pd.DataFrame(mean_ret)\n",
    "        data.columns = ['EQUAL INDEX']\n",
    "        #for i in data.columns:\n",
    "            #data[i] = mean_ret \n",
    "                \n",
    "    if fwd_ret == 'yes':\n",
    "        data = returns    \n",
    "        \n",
    "    return data"
   ]
  },
  {
   "cell_type": "code",
   "execution_count": 27,
   "metadata": {},
   "outputs": [],
   "source": [
    "V2_OPEN_TO_CLOSE_STOCK_RETURNS =  mkt_neu_returns(\n",
    "                                                open_price      = STOCK_PRICES_OPEN,\n",
    "                                                close_price     = STOCK_PRICES_CLOSE,\n",
    "                                                open_to_close   = 'yes',\n",
    "                                                open_to_open    = 'no',\n",
    "                                                equal_index_ret = 'no',\n",
    "                                                fwd_ret         = 'yes'\n",
    "    \n",
    "                                               )\n",
    "\n",
    "\n",
    "V2_OPEN_TO_CLOSE_STOCK_RETURNS = V2_OPEN_TO_CLOSE_STOCK_RETURNS[V2_TWITTER_ZSCORED.index[0]:V2_TWITTER_ZSCORED.index[-1]]"
   ]
  },
  {
   "cell_type": "code",
   "execution_count": 28,
   "metadata": {},
   "outputs": [],
   "source": [
    "V2_OPEN_TO_CLOSE_EQUALW_RETURNS =   mkt_neu_returns(\n",
    "                                                open_price      = STOCK_PRICES_OPEN,\n",
    "                                                close_price     = STOCK_PRICES_CLOSE,\n",
    "                                                open_to_close   = 'yes',\n",
    "                                                open_to_open    = 'no',\n",
    "                                                equal_index_ret = 'yes',\n",
    "                                                fwd_ret         = 'no'\n",
    "    \n",
    "                                              )\n",
    "\n",
    "V2_OPEN_TO_CLOSE_EQUALW_RETURNS = V2_OPEN_TO_CLOSE_EQUALW_RETURNS[V2_TWITTER_ZSCORED.index[0]:V2_TWITTER_ZSCORED.index[-1]]"
   ]
  },
  {
   "cell_type": "code",
   "execution_count": 29,
   "metadata": {},
   "outputs": [],
   "source": [
    "V2_OPEN_TO_CLOSE_XLK_RETURNS =   mkt_neu_returns(\n",
    "                                                open_price      = XLK_OPEN_ETF,\n",
    "                                                close_price     = XLK_CLOSE_ETF,\n",
    "                                                open_to_close   = 'yes',\n",
    "                                                open_to_open    = 'no',\n",
    "                                                equal_index_ret = 'no',\n",
    "                                                fwd_ret         = 'yes'\n",
    "    \n",
    "                                              )\n",
    "\n",
    "V2_OPEN_TO_CLOSE_XLK_RETURNS = V2_OPEN_TO_CLOSE_XLK_RETURNS[V2_TWITTER_ZSCORED.index[0]:V2_TWITTER_ZSCORED.index[-1]]\n"
   ]
  },
  {
   "cell_type": "code",
   "execution_count": 30,
   "metadata": {},
   "outputs": [
    {
     "name": "stdout",
     "output_type": "stream",
     "text": [
      "(216, 75)\n",
      "START: 2020-12-24 00:00:00\n",
      "END:   2021-11-02 00:00:00\n",
      "(216, 1)\n",
      "START: 2020-12-24 00:00:00\n",
      "END:   2021-11-02 00:00:00\n",
      "(216, 1)\n",
      "START: 2020-12-24 00:00:00\n",
      "END:   2021-11-02 00:00:00\n"
     ]
    }
   ],
   "source": [
    "for i in [V2_OPEN_TO_CLOSE_STOCK_RETURNS,V2_OPEN_TO_CLOSE_EQUALW_RETURNS,V2_OPEN_TO_CLOSE_XLK_RETURNS]:\n",
    "    print(i.shape)\n",
    "    print('START: '+str(i.index[0]))\n",
    "    print('END:   '+str(i.index[-1]))"
   ]
  },
  {
   "cell_type": "markdown",
   "metadata": {},
   "source": [
    "# Returns - Open to Open"
   ]
  },
  {
   "cell_type": "code",
   "execution_count": 31,
   "metadata": {},
   "outputs": [],
   "source": [
    "V2_OPEN_TO_OPEN_STOCK_RETURNS =  mkt_neu_returns(\n",
    "                                                open_price      = STOCK_PRICES_OPEN,\n",
    "                                                close_price     = STOCK_PRICES_OPEN,\n",
    "                                                open_to_close   = 'no',\n",
    "                                                open_to_open    = 'yes',\n",
    "                                                equal_index_ret = 'no',\n",
    "                                                fwd_ret         = 'yes'\n",
    "    \n",
    "                                               )\n",
    "\n",
    "\n",
    "V2_OPEN_TO_OPEN_STOCK_RETURNS = V2_OPEN_TO_OPEN_STOCK_RETURNS[V2_TWITTER_ZSCORED.index[0]:V2_TWITTER_ZSCORED.index[-1]]"
   ]
  },
  {
   "cell_type": "code",
   "execution_count": 32,
   "metadata": {},
   "outputs": [],
   "source": [
    "V2_OPEN_TO_OPEN_EQUALW_RETURNS =   mkt_neu_returns(\n",
    "                                                open_price      = STOCK_PRICES_OPEN,\n",
    "                                                close_price     = STOCK_PRICES_OPEN,\n",
    "                                                open_to_close   = 'no',\n",
    "                                                open_to_open    = 'yes',\n",
    "                                                equal_index_ret = 'yes',\n",
    "                                                fwd_ret         = 'no'\n",
    "    \n",
    "                                              )\n",
    "\n",
    "V2_OPEN_TO_OPEN_EQUALW_RETURNS = V2_OPEN_TO_OPEN_EQUALW_RETURNS[V2_TWITTER_ZSCORED.index[0]:V2_TWITTER_ZSCORED.index[-1]]"
   ]
  },
  {
   "cell_type": "code",
   "execution_count": 33,
   "metadata": {},
   "outputs": [],
   "source": [
    "V2_OPEN_TO_OPEN_XLK_RETURNS =   mkt_neu_returns(\n",
    "                                                open_price      = XLK_OPEN_ETF,\n",
    "                                                close_price     = XLK_OPEN_ETF,\n",
    "                                                open_to_close   = 'no',\n",
    "                                                open_to_open    = 'yes',\n",
    "                                                equal_index_ret = 'no',\n",
    "                                                fwd_ret         = 'yes'\n",
    "    \n",
    "                                              )\n",
    "\n",
    "V2_OPEN_TO_OPEN_XLK_RETURNS = V2_OPEN_TO_OPEN_XLK_RETURNS[V2_TWITTER_ZSCORED.index[0]:V2_TWITTER_ZSCORED.index[-1]]"
   ]
  },
  {
   "cell_type": "markdown",
   "metadata": {},
   "source": [
    "# Transpose all dfs"
   ]
  },
  {
   "cell_type": "code",
   "execution_count": 34,
   "metadata": {},
   "outputs": [],
   "source": [
    "def transpose(df,feature_name = 'REDDIT_EGEN_TOT_SENTIMENT_COUNT'):\n",
    "    value_vars  = df.columns\n",
    "    df.index.name = 'Date'\n",
    "    df          = df.reset_index()\n",
    "        #Transpose the DataFrame: on column, stocks stacked rowwise with dates:\n",
    "    df = pd.melt(df,\n",
    "                    id_vars    = ['Date'],\n",
    "                    value_vars = value_vars,\n",
    "                    var_name   ='Stock',\n",
    "                    value_name = feature_name)\n",
    "\n",
    "    df = df.sort_values(['Date','Stock'])\n",
    "    df = df.reset_index()\n",
    "    df = df.drop('index',axis=1)\n",
    "    \n",
    "    return df"
   ]
  },
  {
   "cell_type": "code",
   "execution_count": 35,
   "metadata": {},
   "outputs": [],
   "source": [
    "V2_TWITTER_ZSCORED                      = transpose(V2_TWITTER_ZSCORED,                     feature_name  = 'TWITTER')              \n",
    "V2_REDDIT_ZSCORED                       = transpose(V2_REDDIT_ZSCORED,                      feature_name  = 'REDDIT')\n",
    "V2_BLOOMBERG_ZSCORED                    = transpose(V2_BLOOMBERG_ZSCORED,                   feature_name  = 'BLOOMBERG')\n",
    "V2_TWITTER_REDDIT_ZSCORED               = transpose(V2_TWITTER_REDDIT_ZSCORED,              feature_name  = 'TWITTER_REDDIT')\n",
    "V2_TWITTER_REDDIT_BLOOMBERG_ZSCORED     = transpose(V2_TWITTER_REDDIT_BLOOMBERG_ZSCORED,    feature_name  = 'TWITTER_REDDIT_BLOOMBERG')\n",
    "V2_EMA_ZSCORED                          = transpose(V2_EMA_ZSCORED,                         feature_name  = 'EMA_ZSCORED')\n",
    "V2_EMA_TWITTER_ZSCORED                  = transpose(V2_EMA_TWITTER_ZSCORED,                 feature_name  = 'EMA_TWITTER_ZSCORED')            \n",
    "V2_EMA_REDDIT_ZSCORED                   = transpose(V2_EMA_REDDIT_ZSCORED,                  feature_name  = 'EMA_REDDIT_ZSCORED')            \n",
    "V2_EMA_BLOOMBERG_ZSCORED                = transpose(V2_EMA_BLOOMBERG_ZSCORED,               feature_name  = 'EMA_BLOOMBERG_ZSCORED')                \n",
    "V2_EMA_TWITTER_REDDIT_ZSCORED           = transpose(V2_EMA_TWITTER_REDDIT_ZSCORED,          feature_name  = 'EMA_TWITTER_REDDIT_ZSCORED')              \n",
    "V2_EMA_TWITTER_REDDIT_BLOOMBERG_ZSCORED = transpose(V2_EMA_TWITTER_REDDIT_BLOOMBERG_ZSCORED,feature_name  = 'EMA_TWITTER_REDDIT_BLOOMBERG_ZSCORED')                \n",
    "V2_OPEN_TO_CLOSE_STOCK_RETURNS          = transpose(V2_OPEN_TO_CLOSE_STOCK_RETURNS,         feature_name  = 'STOCK_RETURNS')\n",
    "V2_OPEN_TO_CLOSE_EQUALW_RETURNS         = transpose(V2_OPEN_TO_CLOSE_EQUALW_RETURNS,        feature_name  = 'EQUAL_RETURNS')\n",
    "V2_OPEN_TO_CLOSE_XLK_RETURNS            = transpose(V2_OPEN_TO_CLOSE_XLK_RETURNS,           feature_name  = 'XLK_RETURNS')        \n",
    "V2_OPEN_TO_OPEN_STOCK_RETURNS           = transpose(V2_OPEN_TO_OPEN_STOCK_RETURNS,          feature_name  = 'STOCK_RETURNS')\n",
    "V2_OPEN_TO_OPEN_EQUALW_RETURNS          = transpose(V2_OPEN_TO_OPEN_EQUALW_RETURNS,         feature_name  = 'EQUAL_RETURNS')\n",
    "V2_OPEN_TO_OPEN_XLK_RETURNS             = transpose(V2_OPEN_TO_OPEN_XLK_RETURNS,            feature_name  = 'XLK_RETURNS')                   \n",
    "                    "
   ]
  },
  {
   "cell_type": "code",
   "execution_count": 36,
   "metadata": {},
   "outputs": [],
   "source": [
    "_list = [\n",
    "                    V2_TWITTER_ZSCORED,\n",
    "                    V2_REDDIT_ZSCORED,\n",
    "                    V2_BLOOMBERG_ZSCORED,\n",
    "                    V2_TWITTER_REDDIT_ZSCORED,\n",
    "                    V2_TWITTER_REDDIT_BLOOMBERG_ZSCORED,\n",
    "                    V2_EMA_ZSCORED,\n",
    "                    V2_EMA_TWITTER_ZSCORED,\n",
    "                    V2_EMA_REDDIT_ZSCORED,\n",
    "                    V2_EMA_BLOOMBERG_ZSCORED,\n",
    "                    V2_EMA_TWITTER_REDDIT_ZSCORED,\n",
    "                    V2_EMA_TWITTER_REDDIT_BLOOMBERG_ZSCORED,\n",
    "                    V2_OPEN_TO_CLOSE_STOCK_RETURNS,\n",
    "                    V2_OPEN_TO_CLOSE_EQUALW_RETURNS,\n",
    "                    V2_OPEN_TO_CLOSE_XLK_RETURNS,\n",
    "                    V2_OPEN_TO_OPEN_STOCK_RETURNS ,\n",
    "                    V2_OPEN_TO_OPEN_EQUALW_RETURNS,\n",
    "                    V2_OPEN_TO_OPEN_XLK_RETURNS\n",
    "    \n",
    "    \n",
    "    \n",
    "                     ]"
   ]
  },
  {
   "cell_type": "code",
   "execution_count": 37,
   "metadata": {},
   "outputs": [
    {
     "name": "stdout",
     "output_type": "stream",
     "text": [
      "(16200, 3)\n",
      "(16200, 3)\n",
      "(16200, 3)\n",
      "(16200, 3)\n",
      "(16200, 3)\n",
      "(16200, 3)\n",
      "(16200, 3)\n",
      "(16200, 3)\n",
      "(16200, 3)\n",
      "(16200, 3)\n",
      "(16200, 3)\n",
      "(16200, 3)\n",
      "(216, 3)\n",
      "(216, 3)\n",
      "(16200, 3)\n",
      "(216, 3)\n",
      "(216, 3)\n"
     ]
    }
   ],
   "source": [
    "for i in _list:\n",
    "    print(i.shape)"
   ]
  },
  {
   "cell_type": "code",
   "execution_count": 38,
   "metadata": {},
   "outputs": [],
   "source": [
    "export_path = '/Users/niclaswolnerhanssen/Desktop/LINC/Sentiment LYNX/2_SIGNAL_PROCESSING/'\n",
    "\n",
    "V2_TWITTER_ZSCORED.to_excel(\n",
    "    export_path+'V2_TWITTER_ZSCORED.xlsx')\n",
    "V2_REDDIT_ZSCORED.to_excel(\n",
    "    export_path+'V2_REDDIT_ZSCORED.xlsx')\n",
    "V2_BLOOMBERG_ZSCORED.to_excel(\n",
    "    export_path+'V2_BLOOMBERG_ZSCORED.xlsx')\n",
    "V2_TWITTER_REDDIT_ZSCORED.to_excel(\n",
    "    export_path+'V2_TWITTER_REDDIT_ZSCORED.xlsx')\n",
    "V2_TWITTER_REDDIT_BLOOMBERG_ZSCORED.to_excel(\n",
    "    export_path+'V2_TWITTER_REDDIT_BLOOMBERG_ZSCORED.xlsx')\n",
    "V2_EMA_ZSCORED.to_excel(\n",
    "    export_path+'V2_EMA_ZSCORED.xlsx')\n",
    "V2_EMA_TWITTER_ZSCORED.to_excel(\n",
    "    export_path+'V2_EMA_TWITTER_ZSCORED.xlsx')\n",
    "V2_EMA_REDDIT_ZSCORED.to_excel(\n",
    "    export_path+'V2_EMA_REDDIT_ZSCORED.xlsx')\n",
    "V2_EMA_BLOOMBERG_ZSCORED.to_excel(\n",
    "    export_path+'V2_EMA_BLOOMBERG_ZSCORED.xlsx')\n",
    "V2_EMA_TWITTER_REDDIT_ZSCORED.to_excel(\n",
    "    export_path+'V2_EMA_TWITTER_REDDIT_ZSCORED.xlsx')\n",
    "V2_EMA_TWITTER_REDDIT_BLOOMBERG_ZSCORED.to_excel(\n",
    "    export_path+'V2_EMA_TWITTER_REDDIT_BLOOMBERG_ZSCORED.xlsx')\n",
    "V2_OPEN_TO_CLOSE_STOCK_RETURNS.to_excel(\n",
    "    export_path+'V2_OPEN_TO_CLOSE_STOCK_RETURNS.xlsx')\n",
    "V2_OPEN_TO_CLOSE_EQUALW_RETURNS.to_excel(\n",
    "    export_path+'V2_OPEN_TO_CLOSE_EQUALW_RETURNS.xlsx')\n",
    "V2_OPEN_TO_CLOSE_XLK_RETURNS.to_excel(\n",
    "    export_path+'V2_OPEN_TO_CLOSE_XLK_RETURNS.xlsx')\n",
    "V2_OPEN_TO_OPEN_STOCK_RETURNS.to_excel(\n",
    "    export_path+'V2_OPEN_TO_OPEN_STOCK_RETURNS.xlsx')\n",
    "V2_OPEN_TO_OPEN_EQUALW_RETURNS.to_excel(\n",
    "    export_path+'V2_OPEN_TO_OPEN_EQUALW_RETURNS.xlsx')\n",
    "V2_OPEN_TO_OPEN_XLK_RETURNS.to_excel(\n",
    "    export_path+'V2_OPEN_TO_OPEN_XLK_RETURNS.xlsx')\n",
    "\n"
   ]
  },
  {
   "cell_type": "code",
   "execution_count": null,
   "metadata": {},
   "outputs": [],
   "source": []
  }
 ],
 "metadata": {
  "kernelspec": {
   "display_name": "Python 3",
   "language": "python",
   "name": "python3"
  },
  "language_info": {
   "codemirror_mode": {
    "name": "ipython",
    "version": 3
   },
   "file_extension": ".py",
   "mimetype": "text/x-python",
   "name": "python",
   "nbconvert_exporter": "python",
   "pygments_lexer": "ipython3",
   "version": "3.7.4"
  }
 },
 "nbformat": 4,
 "nbformat_minor": 2
}
